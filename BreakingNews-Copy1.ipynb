{
 "cells": [
  {
   "cell_type": "code",
   "execution_count": 26,
   "metadata": {
    "collapsed": true
   },
   "outputs": [],
   "source": [
    "# Dependencies\n",
    "import tweepy\n",
    "import json\n",
    "import numpy as np\n",
    "import pandas as pd\n",
    "from config import consumer_key, consumer_secret, access_token, access_token_secret"
   ]
  },
  {
   "cell_type": "code",
   "execution_count": 27,
   "metadata": {
    "collapsed": true
   },
   "outputs": [],
   "source": [
    "# Import and Initialize Sentiment Analyzer\n",
    "from vaderSentiment.vaderSentiment import SentimentIntensityAnalyzer\n",
    "analyzer = SentimentIntensityAnalyzer()"
   ]
  },
  {
   "cell_type": "code",
   "execution_count": 28,
   "metadata": {
    "collapsed": true
   },
   "outputs": [],
   "source": [
    "# Twitter API Keys\n",
    "consumer_key = consumer_key\n",
    "consumer_secret = consumer_secret\n",
    "access_token = access_token\n",
    "access_token_secret = access_token_secret"
   ]
  },
  {
   "cell_type": "code",
   "execution_count": 29,
   "metadata": {
    "collapsed": true
   },
   "outputs": [],
   "source": [
    "# Setup Tweepy API Authentication\n",
    "auth = tweepy.OAuthHandler(consumer_key, consumer_secret)\n",
    "auth.set_access_token(access_token, access_token_secret)\n",
    "api = tweepy.API(auth, parser=tweepy.parsers.JSONParser())"
   ]
  },
  {
   "cell_type": "code",
   "execution_count": 30,
   "metadata": {
    "collapsed": true
   },
   "outputs": [],
   "source": [
    "# Target Search Term\n",
    "#target_term1 = \"@CNN\"\n",
    "#target_term2 = \"@BBC\"\n",
    "#target_term3 = \"@CNNbrk\"\n",
    "#target_term4 = \"@FoxNews\"\n",
    "#target_term5 = \"@nytimes\"\n",
    "#target_term6 = \"@CBS\""
   ]
  },
  {
   "cell_type": "code",
   "execution_count": 31,
   "metadata": {
    "collapsed": true
   },
   "outputs": [],
   "source": [
    "# Lists to hold sentiments\n",
    "compound_list = []\n",
    "positive_list = []\n",
    "negative_list = []\n",
    "neutral_list = []\n",
    "ttext = []\n",
    "tdate = []\n"
   ]
  },
  {
   "cell_type": "code",
   "execution_count": 35,
   "metadata": {},
   "outputs": [],
   "source": [
    "# Loop through all tweets\n",
    "\n",
    "twf = pd.DataFrame()\n",
    "counter = 0\n",
    "# Create list of Twitter handles\n",
    "target_terms= [\"@BBC\", \"@CBS\" ,\"@CNN\", \"@FoxNews\" , \"@nytimes\"]\n",
    "\n",
    "for x in target_terms:    \n",
    "    #print(\"---------->>>>>>>\",x)  \n",
    "    public_tweets = api.search(x, count=100, result_type=\"recent\")\n",
    "    #print(public_tweets)\n",
    "    \n",
    "    for tweet in public_tweets[\"statuses\"]:\n",
    "        #print(tweet[\"text\"])\n",
    "        #Run Vader Analysis on each tweet\n",
    "        compound = analyzer.polarity_scores(tweet[\"text\"])[\"compound\"]\n",
    "        pos = analyzer.polarity_scores(tweet[\"text\"])[\"pos\"]\n",
    "        neg = analyzer.polarity_scores(tweet[\"text\"])[\"neg\"]\n",
    "        neu = analyzer.polarity_scores(tweet[\"text\"])[\"neu\"]\n",
    "        \n",
    "        twf.loc[counter,'Handle'] = x\n",
    "        twf.loc[counter,'Date'] = tweet[\"created_at\"]\n",
    "        twf.loc[counter,'Text'] = tweet[\"text\"]\n",
    "        twf.loc[counter,'Compound_Score'] = compound\n",
    "        twf.loc[counter,'Positive_score'] = pos\n",
    "        twf.loc[counter,'Negative_score'] = neg\n",
    "        twf.loc[counter,'Neutral_score'] = neu\n",
    "        counter = counter+1  \n",
    "twf.head()\n",
    "        \n",
    "twf.to_csv(\"Sentiment_analysis.csv\")\n",
    "        "
   ]
  },
  {
   "cell_type": "code",
   "execution_count": null,
   "metadata": {
    "collapsed": true
   },
   "outputs": [],
   "source": []
  }
 ],
 "metadata": {
  "kernelspec": {
   "display_name": "Python 3",
   "language": "python",
   "name": "python3"
  },
  "language_info": {
   "codemirror_mode": {
    "name": "ipython",
    "version": 3
   },
   "file_extension": ".py",
   "mimetype": "text/x-python",
   "name": "python",
   "nbconvert_exporter": "python",
   "pygments_lexer": "ipython3",
   "version": "3.6.3"
  },
  "nteract": {
   "version": "0.8.4"
  }
 },
 "nbformat": 4,
 "nbformat_minor": 2
}
